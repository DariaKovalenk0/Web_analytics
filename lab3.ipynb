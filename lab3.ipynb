{
  "cells": [
    {
      "cell_type": "code",
      "execution_count": 2,
      "metadata": {
        "colab": {
          "base_uri": "https://localhost:8080/"
        },
        "id": "IR5mJb53sidC",
        "outputId": "1a2e5ad4-d99d-45ce-ff58-12b6f565d197"
      },
      "outputs": [
        {
          "name": "stdout",
          "output_type": "stream",
          "text": [
            "Collecting asyncpraw\n",
            "  Downloading asyncpraw-7.7.1-py3-none-any.whl (196 kB)\n",
            "\u001b[?25l     \u001b[90m━━━━━━━━━━━━━━━━━━━━━━━━━━━━━━━━━━━━━━━━\u001b[0m \u001b[32m0.0/196.7 kB\u001b[0m \u001b[31m?\u001b[0m eta \u001b[36m-:--:--\u001b[0m\r\u001b[2K     \u001b[91m━━━━━━━━━━━━━━━━━━━━━━━━\u001b[0m\u001b[91m╸\u001b[0m\u001b[90m━━━━━━━━━━━━━━━\u001b[0m \u001b[32m122.9/196.7 kB\u001b[0m \u001b[31m4.0 MB/s\u001b[0m eta \u001b[36m0:00:01\u001b[0m\r\u001b[2K     \u001b[90m━━━━━━━━━━━━━━━━━━━━━━━━━━━━━━━━━━━━━━━━\u001b[0m \u001b[32m196.7/196.7 kB\u001b[0m \u001b[31m3.9 MB/s\u001b[0m eta \u001b[36m0:00:00\u001b[0m\n",
            "\u001b[?25hCollecting aiofiles<1 (from asyncpraw)\n",
            "  Downloading aiofiles-0.8.0-py3-none-any.whl (13 kB)\n",
            "Requirement already satisfied: aiohttp<4 in /usr/local/lib/python3.10/dist-packages (from asyncpraw) (3.9.5)\n",
            "Collecting aiosqlite<=0.17.0 (from asyncpraw)\n",
            "  Downloading aiosqlite-0.17.0-py3-none-any.whl (15 kB)\n",
            "Collecting asyncprawcore<3,>=2.1 (from asyncpraw)\n",
            "  Downloading asyncprawcore-2.4.0-py3-none-any.whl (19 kB)\n",
            "Collecting update-checker>=0.18 (from asyncpraw)\n",
            "  Downloading update_checker-0.18.0-py3-none-any.whl (7.0 kB)\n",
            "Requirement already satisfied: aiosignal>=1.1.2 in /usr/local/lib/python3.10/dist-packages (from aiohttp<4->asyncpraw) (1.3.1)\n",
            "Requirement already satisfied: attrs>=17.3.0 in /usr/local/lib/python3.10/dist-packages (from aiohttp<4->asyncpraw) (23.2.0)\n",
            "Requirement already satisfied: frozenlist>=1.1.1 in /usr/local/lib/python3.10/dist-packages (from aiohttp<4->asyncpraw) (1.4.1)\n",
            "Requirement already satisfied: multidict<7.0,>=4.5 in /usr/local/lib/python3.10/dist-packages (from aiohttp<4->asyncpraw) (6.0.5)\n",
            "Requirement already satisfied: yarl<2.0,>=1.0 in /usr/local/lib/python3.10/dist-packages (from aiohttp<4->asyncpraw) (1.9.4)\n",
            "Requirement already satisfied: async-timeout<5.0,>=4.0 in /usr/local/lib/python3.10/dist-packages (from aiohttp<4->asyncpraw) (4.0.3)\n",
            "Requirement already satisfied: typing_extensions>=3.7.2 in /usr/local/lib/python3.10/dist-packages (from aiosqlite<=0.17.0->asyncpraw) (4.12.1)\n",
            "Requirement already satisfied: requests>=2.3.0 in /usr/local/lib/python3.10/dist-packages (from update-checker>=0.18->asyncpraw) (2.31.0)\n",
            "Requirement already satisfied: charset-normalizer<4,>=2 in /usr/local/lib/python3.10/dist-packages (from requests>=2.3.0->update-checker>=0.18->asyncpraw) (3.3.2)\n",
            "Requirement already satisfied: idna<4,>=2.5 in /usr/local/lib/python3.10/dist-packages (from requests>=2.3.0->update-checker>=0.18->asyncpraw) (3.7)\n",
            "Requirement already satisfied: urllib3<3,>=1.21.1 in /usr/local/lib/python3.10/dist-packages (from requests>=2.3.0->update-checker>=0.18->asyncpraw) (2.0.7)\n",
            "Requirement already satisfied: certifi>=2017.4.17 in /usr/local/lib/python3.10/dist-packages (from requests>=2.3.0->update-checker>=0.18->asyncpraw) (2024.6.2)\n",
            "Installing collected packages: aiosqlite, aiofiles, update-checker, asyncprawcore, asyncpraw\n",
            "Successfully installed aiofiles-0.8.0 aiosqlite-0.17.0 asyncpraw-7.7.1 asyncprawcore-2.4.0 update-checker-0.18.0\n"
          ]
        }
      ],
      "source": [
        "pip install asyncpraw"
      ]
    },
    {
      "cell_type": "code",
      "execution_count": null,
      "metadata": {
        "colab": {
          "base_uri": "https://localhost:8080/"
        },
        "id": "aqpPGl67ibOV",
        "outputId": "22a6ab9d-4e8e-4614-accc-ae7467baf107"
      },
      "outputs": [],
      "source": [
        "import aiohttp\n",
        "import asyncpraw\n",
        "import pandas as pd\n",
        "from datetime import datetime, timezone\n",
        "import asyncio\n",
        "import csv\n",
        "\n",
        "async def get_auth_credentials():\n",
        "    credentials = {\n",
        "        \"client_id\": input(\"Enter Reddit client ID: \"),\n",
        "        \"client_secret\": input(\"Enter Reddit client secret: \"),\n",
        "        \"user_agent\": input(\"Enter Reddit user agent: \")\n",
        "    }\n",
        "    return credentials\n",
        "\n",
        "async def reddit_authenticate(credentials, session):\n",
        "    try:\n",
        "        reddit = asyncpraw.Reddit(\n",
        "            client_id=credentials['client_id'],\n",
        "            client_secret=credentials['client_secret'],\n",
        "            user_agent=credentials['user_agent'],\n",
        "            requestor_kwargs={'session': session}\n",
        "        )\n",
        "        await reddit.user.me()\n",
        "        print(\"Authentication successful.\")\n",
        "        return reddit\n",
        "    except Exception as e:\n",
        "        print(f\"Authentication failed: {e}\")\n",
        "        exit(1)\n",
        "\n",
        "async def fetch_subreddit_posts(reddit, subreddit_name, limit=2000):\n",
        "    posts_data = []\n",
        "    try:\n",
        "        subreddit = await reddit.subreddit(subreddit_name)\n",
        "        async for submission in subreddit.new(limit=limit):\n",
        "            post_content = submission.selftext if submission.is_self else \"\"\n",
        "            posts_data.append({\n",
        "                'author': str(submission.author),\n",
        "                'title': submission.title,\n",
        "                'comments': submission.num_comments,\n",
        "                'created_at': datetime.fromtimestamp(submission.created_utc, tz=timezone.utc),\n",
        "                'content': post_content,\n",
        "                'url': submission.url\n",
        "            })\n",
        "    except Exception as e:\n",
        "        print(f\"Error fetching posts for subreddit {subreddit_name}: {e}\")\n",
        "    return posts_data\n",
        "\n",
        "async def display_posts(posts):\n",
        "    if posts:\n",
        "        df = pd.DataFrame(posts)\n",
        "        print(df.head(10))\n",
        "    else:\n",
        "        print(\"No posts found.\")\n",
        "\n",
        "async def save_posts_to_csv(posts):\n",
        "    if not posts:\n",
        "        print(\"No posts to save.\")\n",
        "        return\n",
        "    filename = input(\"Enter filename (with .csv extension): \")\n",
        "    with open(filename, 'w', newline='', encoding='utf-8') as csvfile:\n",
        "        writer = csv.DictWriter(csvfile, fieldnames=posts[0].keys())\n",
        "        writer.writeheader()\n",
        "        writer.writerows(posts)\n",
        "    print(f\"Posts saved to {filename}\")\n",
        "\n",
        "async def main():\n",
        "    credentials = await get_auth_credentials()\n",
        "\n",
        "    async with aiohttp.ClientSession() as session:\n",
        "        reddit = await reddit_authenticate(credentials, session)\n",
        "        subreddit_name = input(\"Enter the target subreddit name: \")\n",
        "        posts = await fetch_subreddit_posts(reddit, subreddit_name)\n",
        "        await display_posts(posts)\n",
        "        await save_posts_to_csv(posts)\n",
        "\n",
        "if __name__ == \"__main__\":\n",
        "    try:\n",
        "        import nest_asyncio\n",
        "        nest_asyncio.apply()\n",
        "        asyncio.run(main())\n",
        "    except Exception as e:\n",
        "        print(f\"An error occurred: {e}\")\n",
        "\n"
      ]
    }
  ],
  "metadata": {
    "colab": {
      "provenance": []
    },
    "kernelspec": {
      "display_name": "Python 3",
      "name": "python3"
    },
    "language_info": {
      "name": "python"
    }
  },
  "nbformat": 4,
  "nbformat_minor": 0
}
